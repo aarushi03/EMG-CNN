{
 "cells": [
  {
   "cell_type": "code",
   "execution_count": 1,
   "metadata": {},
   "outputs": [
    {
     "name": "stderr",
     "output_type": "stream",
     "text": [
      "Using TensorFlow backend.\n"
     ]
    }
   ],
   "source": [
    "import os\n",
    "\n",
    "import matplotlib.pyplot as plt\n",
    "import numpy as np\n",
    "import pandas as pd\n",
    "import st_remux as st\n",
    "\n",
    "from sklearn.model_selection import train_test_split\n",
    "from keras.utils import to_categorical\n",
    "\n",
    "\n",
    "\n",
    "%matplotlib inline"
   ]
  },
  {
   "cell_type": "code",
   "execution_count": 2,
   "metadata": {},
   "outputs": [],
   "source": [
    "# Config\n",
    "# highpath = 'datasets/high.csv'\n",
    "# lowpath = 'datasets/none.csv'\n",
    "# hi = st.raw_to_arr(high, fs, win_len, 0)\n",
    "# lo = st.raw_to_arr(low, fs, win_len, 0)\n",
    "highdir = 'datasets/high'\n",
    "meddir = 'datasets/med'\n",
    "lowdir = 'datasets/low'\n",
    "nonedir = 'datasets/none'\n",
    "\n",
    "\n",
    "\n",
    "fs = 4000\n",
    "win_len = 40\n",
    "\n",
    "use_filter = 0   # weird results if we use python filtering\n",
    "\n",
    "use_matlab_backend = 0"
   ]
  },
  {
   "cell_type": "code",
   "execution_count": 3,
   "metadata": {},
   "outputs": [],
   "source": [
    "# high = np.genfromtxt(highpath, delimiter=',')\n",
    "# low = np.genfromtxt(lowpath, delimiter=',')"
   ]
  },
  {
   "cell_type": "code",
   "execution_count": 4,
   "metadata": {},
   "outputs": [
    {
     "name": "stdout",
     "output_type": "stream",
     "text": [
      "Using native backend\n"
     ]
    }
   ],
   "source": [
    "if use_matlab_backend:\n",
    "    print('Using MATLAB signal processing backend')\n",
    "    # high_dir = 'datasets/high/'\n",
    "    # low_dir = 'datasets/low/'\n",
    "\n",
    "    high_dir = 'C:/Users/Geoffrey/Documents/MATLAB/S transform time frequency/high/'\n",
    "    low_dir = 'C:/Users/Geoffrey/Documents/MATLAB/S transform time frequency/low/'\n",
    "\n",
    "    def generate_3darray(directory):\n",
    "        files = os.listdir(directory)\n",
    "        dims = np.genfromtxt(directory + files[0], delimiter=',').shape\n",
    "        length = len(files)\n",
    "        arr = np.zeros((length, dims[0], dims[1]))\n",
    "\n",
    "        for idx, val in enumerate(files):\n",
    "            arr[idx] = np.genfromtxt(directory + val, delimiter=',')\n",
    "\n",
    "        return arr\n",
    "\n",
    "    hi = generate_3darray(high_dir)\n",
    "    lo = generate_3darray(low_dir)\n",
    "    \n",
    "else: \n",
    "    print('Using native backend')\n",
    "    hi = st.raw_to_arr(highdir, fs, win_len, 0)\n",
    "    lo = st.raw_to_arr(nonedir, fs, win_len, 0)\n",
    "\n",
    "X = np.concatenate((hi, lo))\n",
    "\n",
    "hi_Y = np.ones(len(hi), dtype=int)\n",
    "lo_Y = np.zeros(len(lo), dtype=int)\n",
    "\n",
    "Y = np.concatenate((hi_Y, lo_Y))"
   ]
  },
  {
   "cell_type": "code",
   "execution_count": 5,
   "metadata": {},
   "outputs": [],
   "source": [
    "train_X, test_X, train_Y, test_Y = train_test_split(X, Y, test_size=0.1)"
   ]
  },
  {
   "cell_type": "code",
   "execution_count": 6,
   "metadata": {},
   "outputs": [
    {
     "name": "stdout",
     "output_type": "stream",
     "text": [
      "Training data shape:  (9124, 16, 40) (9124,)\n",
      "Testing data shape:  (1014, 16, 40) (1014,)\n"
     ]
    }
   ],
   "source": [
    "print('Training data shape: ', train_X.shape, train_Y.shape)\n",
    "print('Testing data shape: ', test_X.shape, test_Y.shape)"
   ]
  },
  {
   "cell_type": "code",
   "execution_count": 7,
   "metadata": {},
   "outputs": [
    {
     "name": "stdout",
     "output_type": "stream",
     "text": [
      "Total number of outputs:  2\n",
      "Output classes:  [0 1]\n"
     ]
    }
   ],
   "source": [
    "classes = np.unique(train_Y)\n",
    "nClasses = len(classes)\n",
    "print('Total number of outputs: ', nClasses)\n",
    "print('Output classes: ', classes)"
   ]
  },
  {
   "cell_type": "code",
   "execution_count": 8,
   "metadata": {
    "scrolled": true
   },
   "outputs": [
    {
     "data": {
      "text/plain": [
       "Text(0.5,1,'Ground Truth: 1')"
      ]
     },
     "execution_count": 8,
     "metadata": {},
     "output_type": "execute_result"
    },
    {
     "data": {
      "image/png": "[encoded data removed]",
      "text/plain": [
       "<Figure size 720x144 with 2 Axes>"
      ]
     },
     "metadata": {
      "needs_background": "light"
     },
     "output_type": "display_data"
    }
   ],
   "source": [
    "plt.figure(figsize=[10,2])\n",
    "\n",
    "# Display first image in training set\n",
    "plt.subplot(121)\n",
    "plt.pcolormesh(train_X[0,:,:], cmap='jet')\n",
    "plt.title(\"Ground Truth: {}\".format(train_Y[0]))\n",
    "\n",
    "# Display second image in testing set\n",
    "plt.subplot(122)\n",
    "plt.pcolormesh(test_X[1], cmap='jet')\n",
    "plt.title(\"Ground Truth: {}\".format(test_Y[1]))"
   ]
  },
  {
   "cell_type": "code",
   "execution_count": 9,
   "metadata": {},
   "outputs": [
    {
     "data": {
      "text/plain": [
       "((9124, 16, 40, 1), (1014, 16, 40, 1))"
      ]
     },
     "execution_count": 9,
     "metadata": {},
     "output_type": "execute_result"
    }
   ],
   "source": [
    "ydim = train_X[0].shape[0]\n",
    "xdim = train_X[0].shape[1]\n",
    "train_X = train_X.reshape(-1, ydim, xdim, 1)\n",
    "test_X = test_X.reshape(-1, ydim, xdim, 1)\n",
    "train_X.shape, test_X.shape"
   ]
  },
  {
   "cell_type": "code",
   "execution_count": 10,
   "metadata": {},
   "outputs": [],
   "source": [
    "train_X = train_X.astype('float32')\n",
    "test_X = test_X.astype('float32')"
   ]
  },
  {
   "cell_type": "code",
   "execution_count": 11,
   "metadata": {},
   "outputs": [
    {
     "name": "stdout",
     "output_type": "stream",
     "text": [
      "Original label:  0\n",
      "After conversion to one-hot:  [1. 0.]\n"
     ]
    }
   ],
   "source": [
    "# Change labels from categorical to one-hot encoding\n",
    "train_Y_one_hot = to_categorical(train_Y)\n",
    "test_Y_one_hot = to_categorical(test_Y)\n",
    "\n",
    "# See the difference?\n",
    "print('Original label: ', train_Y[0])\n",
    "print('After conversion to one-hot: ', train_Y_one_hot[0])"
   ]
  },
  {
   "cell_type": "code",
   "execution_count": 12,
   "metadata": {},
   "outputs": [
    {
     "data": {
      "text/plain": [
       "(9124, 2)"
      ]
     },
     "execution_count": 12,
     "metadata": {},
     "output_type": "execute_result"
    }
   ],
   "source": [
    "train_Y_one_hot.shape"
   ]
  },
  {
   "cell_type": "code",
   "execution_count": 13,
   "metadata": {},
   "outputs": [
    {
     "data": {
      "text/plain": [
       "((7299, 16, 40, 1), (1825, 16, 40, 1), (7299, 2), (1825, 2))"
      ]
     },
     "execution_count": 13,
     "metadata": {},
     "output_type": "execute_result"
    }
   ],
   "source": [
    "# Partition data for 80% training and 20% validation\n",
    "# should reduce overfitting and boost test performance\n",
    "\n",
    "train_X, valid_X, train_label, valid_label = train_test_split(train_X, train_Y_one_hot, test_size=0.2)\n",
    "\n",
    "train_X.shape, valid_X.shape, train_label.shape, valid_label.shape"
   ]
  },
  {
   "cell_type": "code",
   "execution_count": 14,
   "metadata": {},
   "outputs": [],
   "source": [
    "# let's get down to business\n",
    "import keras\n",
    "from keras.models import Sequential, Input, Model\n",
    "from keras.layers import Dense, Dropout, Flatten\n",
    "from keras.layers import Conv2D, MaxPooling2D\n",
    "from keras.layers.normalization import BatchNormalization\n",
    "from keras.layers.advanced_activations import LeakyReLU"
   ]
  },
  {
   "cell_type": "code",
   "execution_count": 15,
   "metadata": {},
   "outputs": [],
   "source": [
    "# Parameters\n",
    "batch_size = 64\n",
    "epochs = 50\n",
    "num_classes = nClasses"
   ]
  },
  {
   "cell_type": "code",
   "execution_count": 16,
   "metadata": {},
   "outputs": [],
   "source": [
    "emg_model = Sequential()\n",
    "emg_model.add(\n",
    "    Conv2D(\n",
    "        32, \n",
    "        kernel_size=(3, 3), \n",
    "        activation='linear', \n",
    "        input_shape=(ydim, xdim, 1), \n",
    "        padding='same'))\n",
    "emg_model.add(LeakyReLU(alpha=0.1))\n",
    "emg_model.add(MaxPooling2D(pool_size=(2, 2), padding='same'))\n",
    "emg_model.add(Dropout(0.25))\n",
    "emg_model.add(\n",
    "    Conv2D(\n",
    "        64,\n",
    "        (3, 3),\n",
    "        activation='linear',\n",
    "        padding='same'))\n",
    "emg_model.add(LeakyReLU(alpha=0.1))\n",
    "emg_model.add(MaxPooling2D(pool_size=(2, 2), padding='same'))\n",
    "emg_model.add(Dropout(0.25))\n",
    "emg_model.add(\n",
    "    Conv2D(\n",
    "        128,\n",
    "        (3, 3),\n",
    "        activation='linear',\n",
    "        padding='same'))\n",
    "emg_model.add(LeakyReLU(alpha=0.1))\n",
    "emg_model.add(MaxPooling2D(pool_size=(2, 2), padding='same'))\n",
    "emg_model.add(Dropout(0.4))\n",
    "emg_model.add(Flatten())\n",
    "emg_model.add(Dense(128, activation='linear'))\n",
    "emg_model.add(LeakyReLU(alpha=0.1))\n",
    "emg_model.add(Dropout(0.3))\n",
    "emg_model.add(Dense(num_classes, activation='softmax'))"
   ]
  },
  {
   "cell_type": "code",
   "execution_count": 17,
   "metadata": {},
   "outputs": [],
   "source": [
    "emg_model.compile(\n",
    "    loss=keras.losses.categorical_crossentropy,\n",
    "    optimizer=keras.optimizers.Adam(),\n",
    "    metrics=['accuracy'])"
   ]
  },
  {
   "cell_type": "code",
   "execution_count": 18,
   "metadata": {
    "scrolled": true
   },
   "outputs": [
    {
     "name": "stdout",
     "output_type": "stream",
     "text": [
      "Model: \"sequential_1\"\n",
      "_________________________________________________________________\n",
      "Layer (type)                 Output Shape              Param #   \n",
      "=================================================================\n",
      "conv2d_1 (Conv2D)            (None, 16, 40, 32)        320       \n",
      "_________________________________________________________________\n",
      "leaky_re_lu_1 (LeakyReLU)    (None, 16, 40, 32)        0         \n",
      "_________________________________________________________________\n",
      "max_pooling2d_1 (MaxPooling2 (None, 8, 20, 32)         0         \n",
      "_________________________________________________________________\n",
      "dropout_1 (Dropout)          (None, 8, 20, 32)         0         \n",
      "_________________________________________________________________\n",
      "conv2d_2 (Conv2D)            (None, 8, 20, 64)         18496     \n",
      "_________________________________________________________________\n",
      "leaky_re_lu_2 (LeakyReLU)    (None, 8, 20, 64)         0         \n",
      "_________________________________________________________________\n",
      "max_pooling2d_2 (MaxPooling2 (None, 4, 10, 64)         0         \n",
      "_________________________________________________________________\n",
      "dropout_2 (Dropout)          (None, 4, 10, 64)         0         \n",
      "_________________________________________________________________\n",
      "conv2d_3 (Conv2D)            (None, 4, 10, 128)        73856     \n",
      "_________________________________________________________________\n",
      "leaky_re_lu_3 (LeakyReLU)    (None, 4, 10, 128)        0         \n",
      "_________________________________________________________________\n",
      "max_pooling2d_3 (MaxPooling2 (None, 2, 5, 128)         0         \n",
      "_________________________________________________________________\n",
      "dropout_3 (Dropout)          (None, 2, 5, 128)         0         \n",
      "_________________________________________________________________\n",
      "flatten_1 (Flatten)          (None, 1280)              0         \n",
      "_________________________________________________________________\n",
      "dense_1 (Dense)              (None, 128)               163968    \n",
      "_________________________________________________________________\n",
      "leaky_re_lu_4 (LeakyReLU)    (None, 128)               0         \n",
      "_________________________________________________________________\n",
      "dropout_4 (Dropout)          (None, 128)               0         \n",
      "_________________________________________________________________\n",
      "dense_2 (Dense)              (None, 2)                 258       \n",
      "=================================================================\n",
      "Total params: 256,898\n",
      "Trainable params: 256,898\n",
      "Non-trainable params: 0\n",
      "_________________________________________________________________\n"
     ]
    }
   ],
   "source": [
    "emg_model.summary()"
   ]
  },
  {
   "cell_type": "code",
   "execution_count": 19,
   "metadata": {},
   "outputs": [
    {
     "name": "stdout",
     "output_type": "stream",
     "text": [
      "Train on 7299 samples, validate on 1825 samples\n",
      "Epoch 1/50\n",
      "7299/7299 [==============================] - 6s 890us/step - loss: 0.6208 - accuracy: 0.6404 - val_loss: 0.3739 - val_accuracy: 0.8597\n",
      "Epoch 2/50\n",
      "7299/7299 [==============================] - 6s 818us/step - loss: 0.3572 - accuracy: 0.8453 - val_loss: 0.2696 - val_accuracy: 0.8844\n",
      "Epoch 3/50\n",
      "7299/7299 [==============================] - 6s 820us/step - loss: 0.3090 - accuracy: 0.8711 - val_loss: 0.2542 - val_accuracy: 0.9036\n",
      "Epoch 4/50\n",
      "7299/7299 [==============================] - 6s 812us/step - loss: 0.2988 - accuracy: 0.8788 - val_loss: 0.2314 - val_accuracy: 0.9063\n",
      "Epoch 5/50\n",
      "7299/7299 [==============================] - 6s 851us/step - loss: 0.2762 - accuracy: 0.8878 - val_loss: 0.2193 - val_accuracy: 0.9205\n",
      "Epoch 6/50\n",
      "7299/7299 [==============================] - 6s 854us/step - loss: 0.2634 - accuracy: 0.8990 - val_loss: 0.1999 - val_accuracy: 0.9249\n",
      "Epoch 7/50\n",
      "7299/7299 [==============================] - 6s 867us/step - loss: 0.2586 - accuracy: 0.8977 - val_loss: 0.2396 - val_accuracy: 0.9014\n",
      "Epoch 8/50\n",
      "7299/7299 [==============================] - 6s 860us/step - loss: 0.2443 - accuracy: 0.9051 - val_loss: 0.1919 - val_accuracy: 0.9255\n",
      "Epoch 9/50\n",
      "7299/7299 [==============================] - 6s 853us/step - loss: 0.2354 - accuracy: 0.9105 - val_loss: 0.2040 - val_accuracy: 0.9162\n",
      "Epoch 10/50\n",
      "7299/7299 [==============================] - 6s 785us/step - loss: 0.2332 - accuracy: 0.9116 - val_loss: 0.1768 - val_accuracy: 0.9359\n",
      "Epoch 11/50\n",
      "7299/7299 [==============================] - 6s 800us/step - loss: 0.2288 - accuracy: 0.9144 - val_loss: 0.2430 - val_accuracy: 0.8997\n",
      "Epoch 12/50\n",
      "7299/7299 [==============================] - 6s 769us/step - loss: 0.2267 - accuracy: 0.9162 - val_loss: 0.1543 - val_accuracy: 0.9447\n",
      "Epoch 13/50\n",
      "7299/7299 [==============================] - 6s 762us/step - loss: 0.2149 - accuracy: 0.9189 - val_loss: 0.1937 - val_accuracy: 0.9260\n",
      "Epoch 14/50\n",
      "7299/7299 [==============================] - 5s 751us/step - loss: 0.1942 - accuracy: 0.9303 - val_loss: 0.1599 - val_accuracy: 0.9370\n",
      "Epoch 15/50\n",
      "7299/7299 [==============================] - 6s 762us/step - loss: 0.1987 - accuracy: 0.9283 - val_loss: 0.1819 - val_accuracy: 0.9260\n",
      "Epoch 16/50\n",
      "7299/7299 [==============================] - 6s 800us/step - loss: 0.1976 - accuracy: 0.9305 - val_loss: 0.1321 - val_accuracy: 0.9512\n",
      "Epoch 17/50\n",
      "7299/7299 [==============================] - 6s 812us/step - loss: 0.1865 - accuracy: 0.9341 - val_loss: 0.1215 - val_accuracy: 0.9529\n",
      "Epoch 18/50\n",
      "7299/7299 [==============================] - 6s 816us/step - loss: 0.1815 - accuracy: 0.9349 - val_loss: 0.1332 - val_accuracy: 0.9540\n",
      "Epoch 19/50\n",
      "7299/7299 [==============================] - 6s 808us/step - loss: 0.1775 - accuracy: 0.9371 - val_loss: 0.1628 - val_accuracy: 0.9359\n",
      "Epoch 20/50\n",
      "7299/7299 [==============================] - 6s 797us/step - loss: 0.1727 - accuracy: 0.9390 - val_loss: 0.1377 - val_accuracy: 0.9441\n",
      "Epoch 21/50\n",
      "7299/7299 [==============================] - 6s 777us/step - loss: 0.1724 - accuracy: 0.9370 - val_loss: 0.2184 - val_accuracy: 0.9074\n",
      "Epoch 22/50\n",
      "7299/7299 [==============================] - 6s 771us/step - loss: 0.1659 - accuracy: 0.9375 - val_loss: 0.1044 - val_accuracy: 0.9611\n",
      "Epoch 23/50\n",
      "7299/7299 [==============================] - 6s 769us/step - loss: 0.1676 - accuracy: 0.9426 - val_loss: 0.1293 - val_accuracy: 0.9496\n",
      "Epoch 24/50\n",
      "7299/7299 [==============================] - 6s 795us/step - loss: 0.1571 - accuracy: 0.9437 - val_loss: 0.1077 - val_accuracy: 0.9562\n",
      "Epoch 25/50\n",
      "7299/7299 [==============================] - 6s 786us/step - loss: 0.1590 - accuracy: 0.9440 - val_loss: 0.1073 - val_accuracy: 0.9573\n",
      "Epoch 26/50\n",
      "7299/7299 [==============================] - 6s 835us/step - loss: 0.1576 - accuracy: 0.9470 - val_loss: 0.1085 - val_accuracy: 0.9556\n",
      "Epoch 27/50\n",
      "7299/7299 [==============================] - 6s 861us/step - loss: 0.1494 - accuracy: 0.9486 - val_loss: 0.1055 - val_accuracy: 0.9584\n",
      "Epoch 28/50\n",
      "7299/7299 [==============================] - 6s 847us/step - loss: 0.1509 - accuracy: 0.9490 - val_loss: 0.0985 - val_accuracy: 0.9627\n",
      "Epoch 29/50\n",
      "7299/7299 [==============================] - 6s 860us/step - loss: 0.1458 - accuracy: 0.9497 - val_loss: 0.1347 - val_accuracy: 0.9468\n",
      "Epoch 30/50\n",
      "7299/7299 [==============================] - 6s 860us/step - loss: 0.1479 - accuracy: 0.9504 - val_loss: 0.0867 - val_accuracy: 0.9699\n",
      "Epoch 31/50\n",
      "7299/7299 [==============================] - 6s 877us/step - loss: 0.1397 - accuracy: 0.9530 - val_loss: 0.1947 - val_accuracy: 0.9205\n",
      "Epoch 32/50\n",
      "7299/7299 [==============================] - 6s 865us/step - loss: 0.1774 - accuracy: 0.9364 - val_loss: 0.1359 - val_accuracy: 0.9452\n",
      "Epoch 33/50\n",
      "7299/7299 [==============================] - 6s 850us/step - loss: 0.1417 - accuracy: 0.9492 - val_loss: 0.0873 - val_accuracy: 0.9693\n",
      "Epoch 34/50\n",
      "7299/7299 [==============================] - 6s 859us/step - loss: 0.1365 - accuracy: 0.9555 - val_loss: 0.0915 - val_accuracy: 0.9655\n",
      "Epoch 35/50\n",
      "7299/7299 [==============================] - 7s 891us/step - loss: 0.1415 - accuracy: 0.9512 - val_loss: 0.1207 - val_accuracy: 0.9507\n",
      "Epoch 36/50\n",
      "7299/7299 [==============================] - 6s 873us/step - loss: 0.1317 - accuracy: 0.9548 - val_loss: 0.0933 - val_accuracy: 0.9644\n",
      "Epoch 37/50\n",
      "7299/7299 [==============================] - 7s 906us/step - loss: 0.1305 - accuracy: 0.9574 - val_loss: 0.1130 - val_accuracy: 0.9545\n",
      "Epoch 38/50\n",
      "7299/7299 [==============================] - 7s 900us/step - loss: 0.1279 - accuracy: 0.9548 - val_loss: 0.1150 - val_accuracy: 0.9556\n",
      "Epoch 39/50\n",
      "7299/7299 [==============================] - 7s 914us/step - loss: 0.1322 - accuracy: 0.9545 - val_loss: 0.1142 - val_accuracy: 0.9562\n",
      "Epoch 40/50\n",
      "7299/7299 [==============================] - 7s 910us/step - loss: 0.1219 - accuracy: 0.9585 - val_loss: 0.0991 - val_accuracy: 0.9627\n",
      "Epoch 41/50\n",
      "7299/7299 [==============================] - 6s 881us/step - loss: 0.1230 - accuracy: 0.9599 - val_loss: 0.0746 - val_accuracy: 0.9732\n",
      "Epoch 42/50\n",
      "7299/7299 [==============================] - 7s 903us/step - loss: 0.1228 - accuracy: 0.9585 - val_loss: 0.0636 - val_accuracy: 0.9792\n",
      "Epoch 43/50\n",
      "7299/7299 [==============================] - 6s 877us/step - loss: 0.1154 - accuracy: 0.9612 - val_loss: 0.0862 - val_accuracy: 0.9660\n",
      "Epoch 44/50\n",
      "7299/7299 [==============================] - 6s 870us/step - loss: 0.1121 - accuracy: 0.9626 - val_loss: 0.0605 - val_accuracy: 0.9792\n",
      "Epoch 45/50\n",
      "7299/7299 [==============================] - 6s 880us/step - loss: 0.1037 - accuracy: 0.9652 - val_loss: 0.0644 - val_accuracy: 0.9748\n",
      "Epoch 46/50\n",
      "7299/7299 [==============================] - 7s 932us/step - loss: 0.1139 - accuracy: 0.9634 - val_loss: 0.0641 - val_accuracy: 0.9781\n",
      "Epoch 47/50\n",
      "7299/7299 [==============================] - 7s 950us/step - loss: 0.1181 - accuracy: 0.9604 - val_loss: 0.0847 - val_accuracy: 0.9671\n",
      "Epoch 48/50\n",
      "7299/7299 [==============================] - 7s 921us/step - loss: 0.1118 - accuracy: 0.9618 - val_loss: 0.0715 - val_accuracy: 0.9753\n",
      "Epoch 49/50\n",
      "7299/7299 [==============================] - 6s 881us/step - loss: 0.1141 - accuracy: 0.9627 - val_loss: 0.0696 - val_accuracy: 0.9770\n",
      "Epoch 50/50\n",
      "7299/7299 [==============================] - 7s 939us/step - loss: 0.1147 - accuracy: 0.9611 - val_loss: 0.0603 - val_accuracy: 0.9770\n"
     ]
    }
   ],
   "source": [
    "emg_train = emg_model.fit(\n",
    "    train_X,\n",
    "    train_label,\n",
    "    batch_size=batch_size,\n",
    "    epochs=epochs,\n",
    "    verbose=1,\n",
    "    validation_data=(valid_X, valid_label))"
   ]
  },
  {
   "cell_type": "code",
   "execution_count": 20,
   "metadata": {},
   "outputs": [],
   "source": [
    "test_eval = emg_model.evaluate(test_X, test_Y_one_hot, verbose=0)"
   ]
  },
  {
   "cell_type": "code",
   "execution_count": 21,
   "metadata": {},
   "outputs": [
    {
     "name": "stdout",
     "output_type": "stream",
     "text": [
      "Test loss:  0.0950602300950056\n",
      "Test accuracy:  0.966469407081604\n"
     ]
    }
   ],
   "source": [
    "print('Test loss: ', test_eval[0])\n",
    "print('Test accuracy: ', test_eval[1])"
   ]
  },
  {
   "cell_type": "code",
   "execution_count": 22,
   "metadata": {},
   "outputs": [
    {
     "data": {
      "image/png": "[encoded data removed]",
      "text/plain": [
       "<Figure size 432x288 with 1 Axes>"
      ]
     },
     "metadata": {
      "needs_background": "light"
     },
     "output_type": "display_data"
    },
    {
     "data": {
      "image/png": "[encoded data removed]",
      "text/plain": [
       "<Figure size 432x288 with 1 Axes>"
      ]
     },
     "metadata": {
      "needs_background": "light"
     },
     "output_type": "display_data"
    }
   ],
   "source": [
    "# Visualization\n",
    "accuracy = emg_train.history['accuracy']\n",
    "val_accuracy = emg_train.history['val_accuracy']\n",
    "loss = emg_train.history['loss']\n",
    "val_loss = emg_train.history['val_loss']\n",
    "epoch = range(len(accuracy))\n",
    "plt.plot(epoch, accuracy, 'bo', label='Training accuracy')\n",
    "plt.plot(epoch, val_accuracy, 'b', label='Validation accuracy')\n",
    "plt.title('Training and validation accuracy')\n",
    "plt.legend()\n",
    "plt.figure()\n",
    "plt.plot(epoch, loss, 'bo', label='Training loss')\n",
    "plt.plot(epoch, val_loss, 'b', label='Validation loss')\n",
    "plt.title('Training and validation loss')\n",
    "plt.legend()\n",
    "plt.show()"
   ]
  },
  {
   "cell_type": "code",
   "execution_count": 23,
   "metadata": {},
   "outputs": [
    {
     "name": "stdout",
     "output_type": "stream",
     "text": [
      "Train on 2944 samples, validate on 737 samples\n",
      "Epoch 1/50\n",
      "2944/2944 [==============================] - 5s 2ms/step - loss: 0.1673 - accuracy: 0.9399 - val_loss: 0.2589 - val_accuracy: 0.9132\n",
      "Epoch 2/50\n",
      "2944/2944 [==============================] - 5s 2ms/step - loss: 0.1737 - accuracy: 0.9338 - val_loss: 0.1804 - val_accuracy: 0.9294\n",
      "Epoch 3/50\n",
      "2944/2944 [==============================] - 5s 2ms/step - loss: 0.1505 - accuracy: 0.9474 - val_loss: 0.1685 - val_accuracy: 0.9457\n",
      "Epoch 4/50\n",
      "2944/2944 [==============================] - 5s 2ms/step - loss: 0.1530 - accuracy: 0.9490 - val_loss: 0.1489 - val_accuracy: 0.9430\n",
      "Epoch 5/50\n",
      "2944/2944 [==============================] - 5s 2ms/step - loss: 0.1408 - accuracy: 0.9521 - val_loss: 0.1373 - val_accuracy: 0.9484\n",
      "Epoch 6/50\n",
      "2944/2944 [==============================] - 5s 2ms/step - loss: 0.1394 - accuracy: 0.9511 - val_loss: 0.1533 - val_accuracy: 0.9417\n",
      "Epoch 7/50\n",
      "2944/2944 [==============================] - 5s 2ms/step - loss: 0.1318 - accuracy: 0.9572 - val_loss: 0.1403 - val_accuracy: 0.9403\n",
      "Epoch 8/50\n",
      "2944/2944 [==============================] - 5s 2ms/step - loss: 0.1365 - accuracy: 0.9514 - val_loss: 0.1262 - val_accuracy: 0.9539\n",
      "Epoch 9/50\n",
      "2944/2944 [==============================] - 5s 2ms/step - loss: 0.1309 - accuracy: 0.9524 - val_loss: 0.1527 - val_accuracy: 0.9403\n",
      "Epoch 10/50\n",
      "2944/2944 [==============================] - 5s 2ms/step - loss: 0.1401 - accuracy: 0.9490 - val_loss: 0.1526 - val_accuracy: 0.9457\n",
      "Epoch 11/50\n",
      "2944/2944 [==============================] - 5s 2ms/step - loss: 0.1358 - accuracy: 0.9528 - val_loss: 0.1226 - val_accuracy: 0.9539\n",
      "Epoch 12/50\n",
      "2944/2944 [==============================] - 5s 2ms/step - loss: 0.1293 - accuracy: 0.9524 - val_loss: 0.1134 - val_accuracy: 0.9647\n",
      "Epoch 13/50\n",
      "2944/2944 [==============================] - 5s 2ms/step - loss: 0.1209 - accuracy: 0.9569 - val_loss: 0.1244 - val_accuracy: 0.9607\n",
      "Epoch 14/50\n",
      "2944/2944 [==============================] - 5s 2ms/step - loss: 0.1217 - accuracy: 0.9562 - val_loss: 0.1339 - val_accuracy: 0.9525\n",
      "Epoch 15/50\n",
      "2944/2944 [==============================] - 5s 2ms/step - loss: 0.1298 - accuracy: 0.9524 - val_loss: 0.1119 - val_accuracy: 0.9729\n",
      "Epoch 16/50\n",
      "2944/2944 [==============================] - 5s 2ms/step - loss: 0.1289 - accuracy: 0.9528 - val_loss: 0.1356 - val_accuracy: 0.9498\n",
      "Epoch 17/50\n",
      "2944/2944 [==============================] - 5s 2ms/step - loss: 0.1215 - accuracy: 0.9545 - val_loss: 0.1193 - val_accuracy: 0.9607\n",
      "Epoch 18/50\n",
      "2944/2944 [==============================] - 5s 2ms/step - loss: 0.1221 - accuracy: 0.9518 - val_loss: 0.1638 - val_accuracy: 0.9294\n",
      "Epoch 19/50\n",
      "2944/2944 [==============================] - 5s 2ms/step - loss: 0.1128 - accuracy: 0.9603 - val_loss: 0.1145 - val_accuracy: 0.9620\n",
      "Epoch 20/50\n",
      "2944/2944 [==============================] - 5s 2ms/step - loss: 0.1182 - accuracy: 0.9558 - val_loss: 0.1542 - val_accuracy: 0.9389\n",
      "Epoch 21/50\n",
      "2944/2944 [==============================] - 5s 2ms/step - loss: 0.1072 - accuracy: 0.9630 - val_loss: 0.1114 - val_accuracy: 0.9620\n",
      "Epoch 22/50\n",
      "2944/2944 [==============================] - 4s 1ms/step - loss: 0.1221 - accuracy: 0.9575 - val_loss: 0.1227 - val_accuracy: 0.9607\n",
      "Epoch 23/50\n",
      "2944/2944 [==============================] - 4s 1ms/step - loss: 0.1146 - accuracy: 0.9592 - val_loss: 0.1288 - val_accuracy: 0.9525\n",
      "Epoch 24/50\n",
      "2944/2944 [==============================] - 4s 1ms/step - loss: 0.0969 - accuracy: 0.9677 - val_loss: 0.1252 - val_accuracy: 0.9552\n",
      "Epoch 25/50\n",
      "2944/2944 [==============================] - 4s 1ms/step - loss: 0.1123 - accuracy: 0.9616 - val_loss: 0.1116 - val_accuracy: 0.9661\n",
      "Epoch 26/50\n",
      "2944/2944 [==============================] - 4s 1ms/step - loss: 0.1093 - accuracy: 0.9616 - val_loss: 0.1411 - val_accuracy: 0.9457\n",
      "Epoch 27/50\n",
      "2944/2944 [==============================] - 4s 1ms/step - loss: 0.1069 - accuracy: 0.9606 - val_loss: 0.1044 - val_accuracy: 0.9715\n",
      "Epoch 28/50\n",
      "2944/2944 [==============================] - 4s 1ms/step - loss: 0.1010 - accuracy: 0.9626 - val_loss: 0.1209 - val_accuracy: 0.9566\n",
      "Epoch 29/50\n",
      "2944/2944 [==============================] - 4s 1ms/step - loss: 0.1045 - accuracy: 0.9623 - val_loss: 0.1086 - val_accuracy: 0.9620\n",
      "Epoch 30/50\n",
      "2944/2944 [==============================] - 4s 1ms/step - loss: 0.1037 - accuracy: 0.9603 - val_loss: 0.1066 - val_accuracy: 0.9715\n",
      "Epoch 31/50\n",
      "2944/2944 [==============================] - 4s 1ms/step - loss: 0.1070 - accuracy: 0.9616 - val_loss: 0.0979 - val_accuracy: 0.9715\n",
      "Epoch 32/50\n",
      "2944/2944 [==============================] - 4s 1ms/step - loss: 0.0975 - accuracy: 0.9691 - val_loss: 0.1062 - val_accuracy: 0.9715\n",
      "Epoch 33/50\n",
      "2944/2944 [==============================] - 5s 2ms/step - loss: 0.0930 - accuracy: 0.9681 - val_loss: 0.1097 - val_accuracy: 0.9661\n",
      "Epoch 34/50\n",
      "2944/2944 [==============================] - 4s 1ms/step - loss: 0.0989 - accuracy: 0.9650 - val_loss: 0.0974 - val_accuracy: 0.9742\n",
      "Epoch 35/50\n",
      "2944/2944 [==============================] - 4s 1ms/step - loss: 0.1013 - accuracy: 0.9650 - val_loss: 0.1056 - val_accuracy: 0.9701\n",
      "Epoch 36/50\n",
      "2944/2944 [==============================] - 4s 1ms/step - loss: 0.0813 - accuracy: 0.9691 - val_loss: 0.1037 - val_accuracy: 0.9620\n",
      "Epoch 37/50\n",
      "2944/2944 [==============================] - 4s 1ms/step - loss: 0.0821 - accuracy: 0.9681 - val_loss: 0.1821 - val_accuracy: 0.9389\n",
      "Epoch 38/50\n",
      "2944/2944 [==============================] - 4s 1ms/step - loss: 0.0867 - accuracy: 0.9698 - val_loss: 0.1215 - val_accuracy: 0.9593\n",
      "Epoch 39/50\n",
      "2944/2944 [==============================] - 4s 1ms/step - loss: 0.0777 - accuracy: 0.9718 - val_loss: 0.1026 - val_accuracy: 0.9701\n",
      "Epoch 40/50\n",
      "2944/2944 [==============================] - 4s 1ms/step - loss: 0.1063 - accuracy: 0.9596 - val_loss: 0.1534 - val_accuracy: 0.9389\n",
      "Epoch 41/50\n",
      "2944/2944 [==============================] - 4s 1ms/step - loss: 0.1141 - accuracy: 0.9565 - val_loss: 0.1409 - val_accuracy: 0.9471\n",
      "Epoch 42/50\n",
      "2944/2944 [==============================] - 4s 1ms/step - loss: 0.0899 - accuracy: 0.9667 - val_loss: 0.0988 - val_accuracy: 0.9674\n",
      "Epoch 43/50\n",
      "2944/2944 [==============================] - 4s 1ms/step - loss: 0.0785 - accuracy: 0.9742 - val_loss: 0.1069 - val_accuracy: 0.9661\n",
      "Epoch 44/50\n",
      "2944/2944 [==============================] - 4s 1ms/step - loss: 0.0806 - accuracy: 0.9711 - val_loss: 0.0994 - val_accuracy: 0.9729\n",
      "Epoch 45/50\n",
      "2944/2944 [==============================] - 4s 1ms/step - loss: 0.0765 - accuracy: 0.9718 - val_loss: 0.1145 - val_accuracy: 0.9634\n",
      "Epoch 46/50\n",
      "2944/2944 [==============================] - 4s 1ms/step - loss: 0.0901 - accuracy: 0.9667 - val_loss: 0.1217 - val_accuracy: 0.9593\n",
      "Epoch 47/50\n",
      "2944/2944 [==============================] - 4s 1ms/step - loss: 0.0755 - accuracy: 0.9732 - val_loss: 0.1019 - val_accuracy: 0.9742\n",
      "Epoch 48/50\n",
      "2944/2944 [==============================] - 4s 1ms/step - loss: 0.0789 - accuracy: 0.9715 - val_loss: 0.1018 - val_accuracy: 0.9634\n",
      "Epoch 49/50\n",
      "2944/2944 [==============================] - 4s 1ms/step - loss: 0.0702 - accuracy: 0.9749 - val_loss: 0.1096 - val_accuracy: 0.9634\n",
      "Epoch 50/50\n",
      "2944/2944 [==============================] - 4s 1ms/step - loss: 0.0730 - accuracy: 0.9759 - val_loss: 0.1059 - val_accuracy: 0.9607\n"
     ]
    }
   ],
   "source": [
    "emg_train_dropout = emg_model.fit(\n",
    "    train_X,\n",
    "    train_label,\n",
    "    batch_size=batch_size,\n",
    "    epochs=epochs,\n",
    "    verbose=1,\n",
    "    validation_data=(valid_X, valid_label))"
   ]
  },
  {
   "cell_type": "code",
   "execution_count": 24,
   "metadata": {},
   "outputs": [],
   "source": [
    "# emg_model.save(\"emg_model_dropout_new.h5py\")"
   ]
  },
  {
   "cell_type": "code",
   "execution_count": 23,
   "metadata": {},
   "outputs": [
    {
     "name": "stdout",
     "output_type": "stream",
     "text": [
      "1014/1014 [==============================] - 0s 300us/step\n"
     ]
    }
   ],
   "source": [
    "test_eval= emg_model.evaluate(test_X, test_Y_one_hot, verbose=1)"
   ]
  },
  {
   "cell_type": "code",
   "execution_count": 24,
   "metadata": {},
   "outputs": [
    {
     "name": "stdout",
     "output_type": "stream",
     "text": [
      "Test loss:  0.0950602300950056\n",
      "Test accuracy:  0.966469407081604\n"
     ]
    }
   ],
   "source": [
    "print('Test loss: ', test_eval[0])\n",
    "print('Test accuracy: ', test_eval[1])"
   ]
  },
  {
   "cell_type": "code",
   "execution_count": 25,
   "metadata": {},
   "outputs": [
    {
     "ename": "NameError",
     "evalue": "name 'emg_train_dropout' is not defined",
     "output_type": "error",
     "traceback": [
      "\u001b[1;31m---------------------------------------------------------------------------\u001b[0m",
      "\u001b[1;31mNameError\u001b[0m                                 Traceback (most recent call last)",
      "\u001b[1;32m<ipython-input-25-b7744dc72fd2>\u001b[0m in \u001b[0;36m<module>\u001b[1;34m\u001b[0m\n\u001b[0;32m      1\u001b[0m \u001b[1;31m# Visualization\u001b[0m\u001b[1;33m\u001b[0m\u001b[1;33m\u001b[0m\u001b[1;33m\u001b[0m\u001b[0m\n\u001b[1;32m----> 2\u001b[1;33m \u001b[0maccuracy\u001b[0m \u001b[1;33m=\u001b[0m \u001b[0memg_train_dropout\u001b[0m\u001b[1;33m.\u001b[0m\u001b[0mhistory\u001b[0m\u001b[1;33m[\u001b[0m\u001b[1;34m'accuracy'\u001b[0m\u001b[1;33m]\u001b[0m\u001b[1;33m\u001b[0m\u001b[1;33m\u001b[0m\u001b[0m\n\u001b[0m\u001b[0;32m      3\u001b[0m \u001b[0mval_accuracy\u001b[0m \u001b[1;33m=\u001b[0m \u001b[0memg_train_dropout\u001b[0m\u001b[1;33m.\u001b[0m\u001b[0mhistory\u001b[0m\u001b[1;33m[\u001b[0m\u001b[1;34m'val_accuracy'\u001b[0m\u001b[1;33m]\u001b[0m\u001b[1;33m\u001b[0m\u001b[1;33m\u001b[0m\u001b[0m\n\u001b[0;32m      4\u001b[0m \u001b[0mloss\u001b[0m \u001b[1;33m=\u001b[0m \u001b[0memg_train_dropout\u001b[0m\u001b[1;33m.\u001b[0m\u001b[0mhistory\u001b[0m\u001b[1;33m[\u001b[0m\u001b[1;34m'loss'\u001b[0m\u001b[1;33m]\u001b[0m\u001b[1;33m\u001b[0m\u001b[1;33m\u001b[0m\u001b[0m\n\u001b[0;32m      5\u001b[0m \u001b[0mval_loss\u001b[0m \u001b[1;33m=\u001b[0m \u001b[0memg_train_dropout\u001b[0m\u001b[1;33m.\u001b[0m\u001b[0mhistory\u001b[0m\u001b[1;33m[\u001b[0m\u001b[1;34m'val_loss'\u001b[0m\u001b[1;33m]\u001b[0m\u001b[1;33m\u001b[0m\u001b[1;33m\u001b[0m\u001b[0m\n",
      "\u001b[1;31mNameError\u001b[0m: name 'emg_train_dropout' is not defined"
     ]
    }
   ],
   "source": [
    "# Visualization\n",
    "accuracy = emg_train_dropout.history['accuracy']\n",
    "val_accuracy = emg_train_dropout.history['val_accuracy']\n",
    "loss = emg_train_dropout.history['loss']\n",
    "val_loss = emg_train_dropout.history['val_loss']\n",
    "epoch = range(len(accuracy))\n",
    "plt.plot(epoch, accuracy, 'bo', label='Training accuracy')\n",
    "plt.plot(epoch, val_accuracy, 'b', label='Validation accuracy')\n",
    "plt.title('Training and validation accuracy')\n",
    "plt.legend()\n",
    "plt.figure()\n",
    "plt.plot(epoch, loss, 'bo', label='Training loss')\n",
    "plt.plot(epoch, val_loss, 'b', label='Validation loss')\n",
    "plt.title('Training and validation loss')\n",
    "plt.legend()\n",
    "plt.show()"
   ]
  },
  {
   "cell_type": "code",
   "execution_count": 26,
   "metadata": {},
   "outputs": [],
   "source": [
    "predicted_classes = emg_model.predict(test_X)"
   ]
  },
  {
   "cell_type": "code",
   "execution_count": 27,
   "metadata": {},
   "outputs": [],
   "source": [
    "predicted_classes = np.argmax(np.round(predicted_classes), axis=1)"
   ]
  },
  {
   "cell_type": "code",
   "execution_count": 28,
   "metadata": {},
   "outputs": [
    {
     "data": {
      "text/plain": [
       "((1014,), (1014,))"
      ]
     },
     "execution_count": 28,
     "metadata": {},
     "output_type": "execute_result"
    }
   ],
   "source": [
    "predicted_classes.shape, test_Y.shape"
   ]
  },
  {
   "cell_type": "code",
   "execution_count": 29,
   "metadata": {},
   "outputs": [
    {
     "name": "stdout",
     "output_type": "stream",
     "text": [
      "Found 980 correct labels\n"
     ]
    },
    {
     "data": {
      "image/png": "[encoded data removed]",
      "text/plain": [
       "<Figure size 432x288 with 9 Axes>"
      ]
     },
     "metadata": {
      "needs_background": "light"
     },
     "output_type": "display_data"
    }
   ],
   "source": [
    "correct = np.where(predicted_classes==test_Y)[0]\n",
    "print(\"Found %d correct labels\" % len(correct))\n",
    "for i, correct, in enumerate(correct[:9]):\n",
    "    plt.subplot(3, 3, i+1)\n",
    "    plt.pcolormesh(test_X[correct].reshape(ydim, xdim), cmap='jet')\n",
    "    plt.title(\"Predicted {}, Class {}\".format(predicted_classes[correct], test_Y[correct]))\n",
    "    plt.tight_layout()"
   ]
  },
  {
   "cell_type": "code",
   "execution_count": 30,
   "metadata": {},
   "outputs": [
    {
     "name": "stdout",
     "output_type": "stream",
     "text": [
      "Found 34 incorrect labels\n"
     ]
    },
    {
     "data": {
      "image/png": "[encoded data removed]",
      "text/plain": [
       "<Figure size 432x288 with 9 Axes>"
      ]
     },
     "metadata": {
      "needs_background": "light"
     },
     "output_type": "display_data"
    }
   ],
   "source": [
    "incorrect = np.where(predicted_classes!=test_Y)[0]\n",
    "print(\"Found %d incorrect labels\" % len(incorrect))\n",
    "for i, incorrect, in enumerate(incorrect[:9]):\n",
    "    plt.subplot(3, 3, i+1)\n",
    "    plt.pcolormesh(test_X[incorrect].reshape(ydim, xdim), cmap='jet')\n",
    "    plt.title(\"Predicted {}, Class {}\".format(predicted_classes[incorrect], test_Y[incorrect]))\n",
    "    plt.tight_layout()"
   ]
  },
  {
   "cell_type": "code",
   "execution_count": 31,
   "metadata": {},
   "outputs": [
    {
     "name": "stdout",
     "output_type": "stream",
     "text": [
      "              precision    recall  f1-score   support\n",
      "\n",
      "     Class 0       0.97      0.98      0.97       595\n",
      "     Class 1       0.97      0.95      0.96       419\n",
      "\n",
      "    accuracy                           0.97      1014\n",
      "   macro avg       0.97      0.96      0.97      1014\n",
      "weighted avg       0.97      0.97      0.97      1014\n",
      "\n"
     ]
    }
   ],
   "source": [
    "from sklearn.metrics import classification_report\n",
    "target_names = [\"Class {}\".format(i) for i in range(num_classes)]\n",
    "print(classification_report(test_Y, predicted_classes, target_names=target_names))"
   ]
  },
  {
   "cell_type": "code",
   "execution_count": null,
   "metadata": {},
   "outputs": [],
   "source": []
  }
 ],
 "metadata": {
  "kernelspec": {
   "display_name": "Python 3",
   "language": "python",
   "name": "python3"
  },
  "language_info": {
   "codemirror_mode": {
    "name": "ipython",
    "version": 3
   },
   "file_extension": ".py",
   "mimetype": "text/x-python",
   "name": "python",
   "nbconvert_exporter": "python",
   "pygments_lexer": "ipython3",
   "version": "3.6.10"
  }
 },
 "nbformat": 4,
 "nbformat_minor": 4
}
